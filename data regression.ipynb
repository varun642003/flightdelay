{
 "cells": [
  {
   "cell_type": "code",
   "execution_count": 1,
   "id": "780fae92",
   "metadata": {},
   "outputs": [],
   "source": [
    "import pandas as pd\n",
    "import numpy as np\n",
    "import matplotlib.pyplot as plt\n",
    "import os\n",
    "from sklearn import linear_model\n",
    "from sklearn.model_selection import train_test_split\n",
    "from sklearn.metrics import r2_score,mean_absolute_error\n",
    "from sklearn.ensemble import ExtraTreesRegressor\n",
    "from sklearn.ensemble import RandomForestRegressor\n",
    "import xgboost as xg\n",
    "import joblib"
   ]
  },
  {
   "cell_type": "code",
   "execution_count": 2,
   "id": "45542324",
   "metadata": {},
   "outputs": [
    {
     "data": {
      "text/plain": [
       "'C:\\\\Users\\\\varun\\\\Downloads'"
      ]
     },
     "execution_count": 2,
     "metadata": {},
     "output_type": "execute_result"
    }
   ],
   "source": [
    "os.getcwd()"
   ]
  },
  {
   "cell_type": "code",
   "execution_count": 3,
   "id": "43c83879",
   "metadata": {},
   "outputs": [],
   "source": [
    "a=pd.read_csv('C:\\\\Users\\\\varun\\\\Downloads\\\\final_data1.csv')"
   ]
  },
  {
   "cell_type": "code",
   "execution_count": 4,
   "id": "34679327",
   "metadata": {},
   "outputs": [
    {
     "data": {
      "text/plain": [
       "Index(['Unnamed: 0_x', 'FlightDate', 'Quarter', 'Year', 'Month', 'DayofMonth',\n",
       "       'DepTime', 'DepDel15', 'CRSDepTime', 'DepDelayMinutes',\n",
       "       'OriginAirportID', 'DestAirportID', 'ArrTime', 'CRSArrTime', 'ArrDel15',\n",
       "       'Dest', 'ArrDelayMinutes', 'Origin', 'time', 'Unnamed: 0_y',\n",
       "       'windspeedKmph', 'winddirDegree', 'weatherCode', 'precipMM',\n",
       "       'visibility', 'pressure', 'cloudcover', 'DewPointF', 'WindGustKmph',\n",
       "       'tempF', 'WindChillF', 'humidity', 'date', 'airport'],\n",
       "      dtype='object')"
      ]
     },
     "execution_count": 4,
     "metadata": {},
     "output_type": "execute_result"
    }
   ],
   "source": [
    "a.columns"
   ]
  },
  {
   "cell_type": "code",
   "execution_count": 5,
   "id": "ee601d76",
   "metadata": {},
   "outputs": [
    {
     "data": {
      "text/plain": [
       "0.0    1479357\n",
       "1.0     372079\n",
       "Name: DepDel15, dtype: int64"
      ]
     },
     "execution_count": 5,
     "metadata": {},
     "output_type": "execute_result"
    }
   ],
   "source": [
    "a['DepDel15'].value_counts()"
   ]
  },
  {
   "cell_type": "code",
   "execution_count": 6,
   "id": "21b6fbd3",
   "metadata": {},
   "outputs": [
    {
     "data": {
      "text/plain": [
       "Unnamed: 0_x       0\n",
       "FlightDate         0\n",
       "Quarter            0\n",
       "Year               0\n",
       "Month              0\n",
       "DayofMonth         0\n",
       "DepTime            0\n",
       "DepDel15           0\n",
       "CRSDepTime         0\n",
       "DepDelayMinutes    0\n",
       "OriginAirportID    0\n",
       "DestAirportID      0\n",
       "ArrTime            0\n",
       "CRSArrTime         0\n",
       "ArrDel15           0\n",
       "Dest               0\n",
       "ArrDelayMinutes    0\n",
       "Origin             0\n",
       "time               0\n",
       "Unnamed: 0_y       0\n",
       "windspeedKmph      0\n",
       "winddirDegree      0\n",
       "weatherCode        0\n",
       "precipMM           0\n",
       "visibility         0\n",
       "pressure           0\n",
       "cloudcover         0\n",
       "DewPointF          0\n",
       "WindGustKmph       0\n",
       "tempF              0\n",
       "WindChillF         0\n",
       "humidity           0\n",
       "date               0\n",
       "airport            0\n",
       "dtype: int64"
      ]
     },
     "execution_count": 6,
     "metadata": {},
     "output_type": "execute_result"
    }
   ],
   "source": [
    "a.isnull().sum()"
   ]
  },
  {
   "cell_type": "code",
   "execution_count": 7,
   "id": "026b79c3",
   "metadata": {},
   "outputs": [],
   "source": [
    "y=a['ArrDelayMinutes']"
   ]
  },
  {
   "cell_type": "code",
   "execution_count": 8,
   "id": "7ab10eb2",
   "metadata": {},
   "outputs": [],
   "source": [
    "X=a.drop(['Unnamed: 0_x','Unnamed: 0_y','FlightDate','Quarter','DepTime','DepDel15','ArrDel15','Dest','ArrDelayMinutes','Origin','date','airport'],axis=1)"
   ]
  },
  {
   "cell_type": "code",
   "execution_count": 9,
   "id": "b79bd372",
   "metadata": {},
   "outputs": [
    {
     "data": {
      "text/html": [
       "<div>\n",
       "<style scoped>\n",
       "    .dataframe tbody tr th:only-of-type {\n",
       "        vertical-align: middle;\n",
       "    }\n",
       "\n",
       "    .dataframe tbody tr th {\n",
       "        vertical-align: top;\n",
       "    }\n",
       "\n",
       "    .dataframe thead th {\n",
       "        text-align: right;\n",
       "    }\n",
       "</style>\n",
       "<table border=\"1\" class=\"dataframe\">\n",
       "  <thead>\n",
       "    <tr style=\"text-align: right;\">\n",
       "      <th></th>\n",
       "      <th>Year</th>\n",
       "      <th>Month</th>\n",
       "      <th>DayofMonth</th>\n",
       "      <th>CRSDepTime</th>\n",
       "      <th>DepDelayMinutes</th>\n",
       "      <th>OriginAirportID</th>\n",
       "      <th>DestAirportID</th>\n",
       "      <th>ArrTime</th>\n",
       "      <th>CRSArrTime</th>\n",
       "      <th>time</th>\n",
       "      <th>...</th>\n",
       "      <th>weatherCode</th>\n",
       "      <th>precipMM</th>\n",
       "      <th>visibility</th>\n",
       "      <th>pressure</th>\n",
       "      <th>cloudcover</th>\n",
       "      <th>DewPointF</th>\n",
       "      <th>WindGustKmph</th>\n",
       "      <th>tempF</th>\n",
       "      <th>WindChillF</th>\n",
       "      <th>humidity</th>\n",
       "    </tr>\n",
       "  </thead>\n",
       "  <tbody>\n",
       "    <tr>\n",
       "      <th>0</th>\n",
       "      <td>2016</td>\n",
       "      <td>1</td>\n",
       "      <td>1</td>\n",
       "      <td>745</td>\n",
       "      <td>0.0</td>\n",
       "      <td>14747</td>\n",
       "      <td>12478</td>\n",
       "      <td>1600.0</td>\n",
       "      <td>1602</td>\n",
       "      <td>800</td>\n",
       "      <td>...</td>\n",
       "      <td>113</td>\n",
       "      <td>0.0</td>\n",
       "      <td>10</td>\n",
       "      <td>1030</td>\n",
       "      <td>0</td>\n",
       "      <td>23</td>\n",
       "      <td>8</td>\n",
       "      <td>34</td>\n",
       "      <td>29</td>\n",
       "      <td>65</td>\n",
       "    </tr>\n",
       "    <tr>\n",
       "      <th>1</th>\n",
       "      <td>2016</td>\n",
       "      <td>1</td>\n",
       "      <td>2</td>\n",
       "      <td>745</td>\n",
       "      <td>0.0</td>\n",
       "      <td>14747</td>\n",
       "      <td>12478</td>\n",
       "      <td>1600.0</td>\n",
       "      <td>1602</td>\n",
       "      <td>800</td>\n",
       "      <td>...</td>\n",
       "      <td>113</td>\n",
       "      <td>0.0</td>\n",
       "      <td>10</td>\n",
       "      <td>1024</td>\n",
       "      <td>0</td>\n",
       "      <td>25</td>\n",
       "      <td>8</td>\n",
       "      <td>37</td>\n",
       "      <td>33</td>\n",
       "      <td>63</td>\n",
       "    </tr>\n",
       "    <tr>\n",
       "      <th>2</th>\n",
       "      <td>2016</td>\n",
       "      <td>1</td>\n",
       "      <td>3</td>\n",
       "      <td>745</td>\n",
       "      <td>0.0</td>\n",
       "      <td>14747</td>\n",
       "      <td>12478</td>\n",
       "      <td>1500.0</td>\n",
       "      <td>1602</td>\n",
       "      <td>800</td>\n",
       "      <td>...</td>\n",
       "      <td>113</td>\n",
       "      <td>0.0</td>\n",
       "      <td>10</td>\n",
       "      <td>1018</td>\n",
       "      <td>0</td>\n",
       "      <td>20</td>\n",
       "      <td>7</td>\n",
       "      <td>32</td>\n",
       "      <td>28</td>\n",
       "      <td>64</td>\n",
       "    </tr>\n",
       "    <tr>\n",
       "      <th>3</th>\n",
       "      <td>2016</td>\n",
       "      <td>1</td>\n",
       "      <td>4</td>\n",
       "      <td>745</td>\n",
       "      <td>0.0</td>\n",
       "      <td>14747</td>\n",
       "      <td>12478</td>\n",
       "      <td>1600.0</td>\n",
       "      <td>1602</td>\n",
       "      <td>800</td>\n",
       "      <td>...</td>\n",
       "      <td>266</td>\n",
       "      <td>0.2</td>\n",
       "      <td>4</td>\n",
       "      <td>1010</td>\n",
       "      <td>93</td>\n",
       "      <td>33</td>\n",
       "      <td>8</td>\n",
       "      <td>35</td>\n",
       "      <td>31</td>\n",
       "      <td>94</td>\n",
       "    </tr>\n",
       "    <tr>\n",
       "      <th>4</th>\n",
       "      <td>2016</td>\n",
       "      <td>1</td>\n",
       "      <td>5</td>\n",
       "      <td>710</td>\n",
       "      <td>0.0</td>\n",
       "      <td>14747</td>\n",
       "      <td>12478</td>\n",
       "      <td>1500.0</td>\n",
       "      <td>1527</td>\n",
       "      <td>700</td>\n",
       "      <td>...</td>\n",
       "      <td>266</td>\n",
       "      <td>0.1</td>\n",
       "      <td>6</td>\n",
       "      <td>1001</td>\n",
       "      <td>100</td>\n",
       "      <td>35</td>\n",
       "      <td>10</td>\n",
       "      <td>38</td>\n",
       "      <td>35</td>\n",
       "      <td>91</td>\n",
       "    </tr>\n",
       "    <tr>\n",
       "      <th>...</th>\n",
       "      <td>...</td>\n",
       "      <td>...</td>\n",
       "      <td>...</td>\n",
       "      <td>...</td>\n",
       "      <td>...</td>\n",
       "      <td>...</td>\n",
       "      <td>...</td>\n",
       "      <td>...</td>\n",
       "      <td>...</td>\n",
       "      <td>...</td>\n",
       "      <td>...</td>\n",
       "      <td>...</td>\n",
       "      <td>...</td>\n",
       "      <td>...</td>\n",
       "      <td>...</td>\n",
       "      <td>...</td>\n",
       "      <td>...</td>\n",
       "      <td>...</td>\n",
       "      <td>...</td>\n",
       "      <td>...</td>\n",
       "      <td>...</td>\n",
       "    </tr>\n",
       "    <tr>\n",
       "      <th>1851431</th>\n",
       "      <td>2017</td>\n",
       "      <td>12</td>\n",
       "      <td>17</td>\n",
       "      <td>1030</td>\n",
       "      <td>0.0</td>\n",
       "      <td>13930</td>\n",
       "      <td>12266</td>\n",
       "      <td>1300.0</td>\n",
       "      <td>1326</td>\n",
       "      <td>1000</td>\n",
       "      <td>...</td>\n",
       "      <td>122</td>\n",
       "      <td>0.0</td>\n",
       "      <td>8</td>\n",
       "      <td>1020</td>\n",
       "      <td>100</td>\n",
       "      <td>31</td>\n",
       "      <td>16</td>\n",
       "      <td>32</td>\n",
       "      <td>26</td>\n",
       "      <td>98</td>\n",
       "    </tr>\n",
       "    <tr>\n",
       "      <th>1851432</th>\n",
       "      <td>2017</td>\n",
       "      <td>12</td>\n",
       "      <td>17</td>\n",
       "      <td>1156</td>\n",
       "      <td>0.0</td>\n",
       "      <td>12892</td>\n",
       "      <td>11618</td>\n",
       "      <td>1900.0</td>\n",
       "      <td>2017</td>\n",
       "      <td>1200</td>\n",
       "      <td>...</td>\n",
       "      <td>113</td>\n",
       "      <td>0.0</td>\n",
       "      <td>10</td>\n",
       "      <td>1014</td>\n",
       "      <td>0</td>\n",
       "      <td>25</td>\n",
       "      <td>19</td>\n",
       "      <td>58</td>\n",
       "      <td>56</td>\n",
       "      <td>27</td>\n",
       "    </tr>\n",
       "    <tr>\n",
       "      <th>1851433</th>\n",
       "      <td>2017</td>\n",
       "      <td>12</td>\n",
       "      <td>17</td>\n",
       "      <td>737</td>\n",
       "      <td>2.0</td>\n",
       "      <td>12266</td>\n",
       "      <td>11292</td>\n",
       "      <td>900.0</td>\n",
       "      <td>909</td>\n",
       "      <td>800</td>\n",
       "      <td>...</td>\n",
       "      <td>122</td>\n",
       "      <td>0.0</td>\n",
       "      <td>10</td>\n",
       "      <td>1020</td>\n",
       "      <td>100</td>\n",
       "      <td>47</td>\n",
       "      <td>9</td>\n",
       "      <td>49</td>\n",
       "      <td>48</td>\n",
       "      <td>91</td>\n",
       "    </tr>\n",
       "    <tr>\n",
       "      <th>1851434</th>\n",
       "      <td>2017</td>\n",
       "      <td>12</td>\n",
       "      <td>17</td>\n",
       "      <td>1638</td>\n",
       "      <td>0.0</td>\n",
       "      <td>11298</td>\n",
       "      <td>11292</td>\n",
       "      <td>1700.0</td>\n",
       "      <td>1747</td>\n",
       "      <td>1700</td>\n",
       "      <td>...</td>\n",
       "      <td>122</td>\n",
       "      <td>0.0</td>\n",
       "      <td>10</td>\n",
       "      <td>1019</td>\n",
       "      <td>95</td>\n",
       "      <td>44</td>\n",
       "      <td>13</td>\n",
       "      <td>50</td>\n",
       "      <td>48</td>\n",
       "      <td>78</td>\n",
       "    </tr>\n",
       "    <tr>\n",
       "      <th>1851435</th>\n",
       "      <td>2017</td>\n",
       "      <td>12</td>\n",
       "      <td>17</td>\n",
       "      <td>1008</td>\n",
       "      <td>0.0</td>\n",
       "      <td>13204</td>\n",
       "      <td>11618</td>\n",
       "      <td>1200.0</td>\n",
       "      <td>1245</td>\n",
       "      <td>1000</td>\n",
       "      <td>...</td>\n",
       "      <td>116</td>\n",
       "      <td>0.0</td>\n",
       "      <td>10</td>\n",
       "      <td>1025</td>\n",
       "      <td>36</td>\n",
       "      <td>58</td>\n",
       "      <td>13</td>\n",
       "      <td>63</td>\n",
       "      <td>64</td>\n",
       "      <td>84</td>\n",
       "    </tr>\n",
       "  </tbody>\n",
       "</table>\n",
       "<p>1851436 rows × 22 columns</p>\n",
       "</div>"
      ],
      "text/plain": [
       "         Year  Month  DayofMonth  CRSDepTime  DepDelayMinutes  \\\n",
       "0        2016      1           1         745              0.0   \n",
       "1        2016      1           2         745              0.0   \n",
       "2        2016      1           3         745              0.0   \n",
       "3        2016      1           4         745              0.0   \n",
       "4        2016      1           5         710              0.0   \n",
       "...       ...    ...         ...         ...              ...   \n",
       "1851431  2017     12          17        1030              0.0   \n",
       "1851432  2017     12          17        1156              0.0   \n",
       "1851433  2017     12          17         737              2.0   \n",
       "1851434  2017     12          17        1638              0.0   \n",
       "1851435  2017     12          17        1008              0.0   \n",
       "\n",
       "         OriginAirportID  DestAirportID  ArrTime  CRSArrTime  time  ...  \\\n",
       "0                  14747          12478   1600.0        1602   800  ...   \n",
       "1                  14747          12478   1600.0        1602   800  ...   \n",
       "2                  14747          12478   1500.0        1602   800  ...   \n",
       "3                  14747          12478   1600.0        1602   800  ...   \n",
       "4                  14747          12478   1500.0        1527   700  ...   \n",
       "...                  ...            ...      ...         ...   ...  ...   \n",
       "1851431            13930          12266   1300.0        1326  1000  ...   \n",
       "1851432            12892          11618   1900.0        2017  1200  ...   \n",
       "1851433            12266          11292    900.0         909   800  ...   \n",
       "1851434            11298          11292   1700.0        1747  1700  ...   \n",
       "1851435            13204          11618   1200.0        1245  1000  ...   \n",
       "\n",
       "         weatherCode  precipMM  visibility  pressure  cloudcover  DewPointF  \\\n",
       "0                113       0.0          10      1030           0         23   \n",
       "1                113       0.0          10      1024           0         25   \n",
       "2                113       0.0          10      1018           0         20   \n",
       "3                266       0.2           4      1010          93         33   \n",
       "4                266       0.1           6      1001         100         35   \n",
       "...              ...       ...         ...       ...         ...        ...   \n",
       "1851431          122       0.0           8      1020         100         31   \n",
       "1851432          113       0.0          10      1014           0         25   \n",
       "1851433          122       0.0          10      1020         100         47   \n",
       "1851434          122       0.0          10      1019          95         44   \n",
       "1851435          116       0.0          10      1025          36         58   \n",
       "\n",
       "         WindGustKmph  tempF  WindChillF  humidity  \n",
       "0                   8     34          29        65  \n",
       "1                   8     37          33        63  \n",
       "2                   7     32          28        64  \n",
       "3                   8     35          31        94  \n",
       "4                  10     38          35        91  \n",
       "...               ...    ...         ...       ...  \n",
       "1851431            16     32          26        98  \n",
       "1851432            19     58          56        27  \n",
       "1851433             9     49          48        91  \n",
       "1851434            13     50          48        78  \n",
       "1851435            13     63          64        84  \n",
       "\n",
       "[1851436 rows x 22 columns]"
      ]
     },
     "execution_count": 9,
     "metadata": {},
     "output_type": "execute_result"
    }
   ],
   "source": [
    "X"
   ]
  },
  {
   "cell_type": "code",
   "execution_count": 9,
   "id": "cf7c7104",
   "metadata": {},
   "outputs": [],
   "source": [
    "X_train, X_test, y_train, y_test=train_test_split(X,y,test_size=0.2,random_state=0)"
   ]
  },
  {
   "cell_type": "markdown",
   "id": "15ac53ba",
   "metadata": {},
   "source": [
    "linear_regression"
   ]
  },
  {
   "cell_type": "code",
   "execution_count": 10,
   "id": "4315a52f",
   "metadata": {},
   "outputs": [
    {
     "data": {
      "text/plain": [
       "LinearRegression()"
      ]
     },
     "execution_count": 10,
     "metadata": {},
     "output_type": "execute_result"
    }
   ],
   "source": [
    "lr=linear_model.LinearRegression()\n",
    "lr.fit(X_train,y_train)"
   ]
  },
  {
   "cell_type": "code",
   "execution_count": 11,
   "id": "2685eda6",
   "metadata": {},
   "outputs": [],
   "source": [
    "lr_predict=lr.predict(X_test)"
   ]
  },
  {
   "cell_type": "code",
   "execution_count": 13,
   "id": "2e444153",
   "metadata": {},
   "outputs": [
    {
     "data": {
      "text/plain": [
       "0.9333484370561373"
      ]
     },
     "execution_count": 13,
     "metadata": {},
     "output_type": "execute_result"
    }
   ],
   "source": [
    "r2_lr=r2_score(y_test,lr_predict)\n",
    "mae_lr=mean_absolute_error(y_test,lr_predict)\n",
    "r2_lr"
   ]
  },
  {
   "cell_type": "markdown",
   "id": "d7f4e549",
   "metadata": {},
   "source": [
    "XGBOOST"
   ]
  },
  {
   "cell_type": "code",
   "execution_count": 14,
   "id": "a9e0cc33",
   "metadata": {},
   "outputs": [
    {
     "data": {
      "text/plain": [
       "XGBRegressor(base_score=None, booster=None, callbacks=None,\n",
       "             colsample_bylevel=None, colsample_bynode=None,\n",
       "             colsample_bytree=None, early_stopping_rounds=None,\n",
       "             enable_categorical=False, eval_metric=None, feature_types=None,\n",
       "             gamma=None, gpu_id=None, grow_policy=None, importance_type=None,\n",
       "             interaction_constraints=None, learning_rate=None, max_bin=None,\n",
       "             max_cat_threshold=None, max_cat_to_onehot=None,\n",
       "             max_delta_step=None, max_depth=None, max_leaves=None,\n",
       "             min_child_weight=None, missing=nan, monotone_constraints=None,\n",
       "             n_estimators=100, n_jobs=None, num_parallel_tree=None,\n",
       "             predictor=None, random_state=None, ...)"
      ]
     },
     "execution_count": 14,
     "metadata": {},
     "output_type": "execute_result"
    }
   ],
   "source": [
    "xg=xg.XGBRegressor()\n",
    "xg.fit(X_train,y_train)"
   ]
  },
  {
   "cell_type": "code",
   "execution_count": 15,
   "id": "6c78cd02",
   "metadata": {},
   "outputs": [],
   "source": [
    "xg_predict=xg.predict(X_test)"
   ]
  },
  {
   "cell_type": "code",
   "execution_count": 16,
   "id": "5ebcd0af",
   "metadata": {},
   "outputs": [
    {
     "data": {
      "text/plain": [
       "(0.9728151598348467, 3.928476915233949)"
      ]
     },
     "execution_count": 16,
     "metadata": {},
     "output_type": "execute_result"
    }
   ],
   "source": [
    "r2_xg=r2_score(y_test,xg_predict)\n",
    "mae_xg=mean_absolute_error(y_test,xg_predict)\n",
    "r2_xg,mae_xg"
   ]
  },
  {
   "cell_type": "markdown",
   "id": "24fd3ec5",
   "metadata": {},
   "source": [
    "Extra Trees Regressor"
   ]
  },
  {
   "cell_type": "code",
   "execution_count": 17,
   "id": "c7ea8d45",
   "metadata": {},
   "outputs": [
    {
     "data": {
      "text/plain": [
       "ExtraTreesRegressor()"
      ]
     },
     "execution_count": 17,
     "metadata": {},
     "output_type": "execute_result"
    }
   ],
   "source": [
    "etr=ExtraTreesRegressor()\n",
    "etr.fit(X_train,y_train)"
   ]
  },
  {
   "cell_type": "code",
   "execution_count": 18,
   "id": "028b2fb4",
   "metadata": {},
   "outputs": [],
   "source": [
    "etr_predict=etr.predict(X_test)"
   ]
  },
  {
   "cell_type": "code",
   "execution_count": 19,
   "id": "8401d481",
   "metadata": {},
   "outputs": [
    {
     "data": {
      "text/plain": [
       "(0.9607535652531323, 4.4771724981635925)"
      ]
     },
     "execution_count": 19,
     "metadata": {},
     "output_type": "execute_result"
    }
   ],
   "source": [
    "r2_etr=r2_score(y_test,etr_predict)\n",
    "mae_etr=mean_absolute_error(y_test,etr_predict)\n",
    "r2_etr,mae_etr"
   ]
  },
  {
   "cell_type": "markdown",
   "id": "7bed5fd3",
   "metadata": {},
   "source": [
    "Random Forest Regressor"
   ]
  },
  {
   "cell_type": "code",
   "execution_count": 20,
   "id": "9204814b",
   "metadata": {},
   "outputs": [
    {
     "data": {
      "text/plain": [
       "RandomForestRegressor()"
      ]
     },
     "execution_count": 20,
     "metadata": {},
     "output_type": "execute_result"
    }
   ],
   "source": [
    "rfr=RandomForestRegressor()\n",
    "rfr.fit(X_train,y_train)"
   ]
  },
  {
   "cell_type": "code",
   "execution_count": 21,
   "id": "8495f14f",
   "metadata": {},
   "outputs": [],
   "source": [
    "rfr_predict=rfr.predict(X_test)"
   ]
  },
  {
   "cell_type": "code",
   "execution_count": 22,
   "id": "01f78717",
   "metadata": {},
   "outputs": [
    {
     "data": {
      "text/plain": [
       "(0.9623607646738312, 4.3770392272527125)"
      ]
     },
     "execution_count": 22,
     "metadata": {},
     "output_type": "execute_result"
    }
   ],
   "source": [
    "r2_rfr=r2_score(y_test,rfr_predict)\n",
    "mae_rfr=mean_absolute_error(y_test,rfr_predict)\n",
    "r2_rfr,mae_rfr"
   ]
  },
  {
   "cell_type": "code",
   "execution_count": 23,
   "id": "aa55b91e",
   "metadata": {},
   "outputs": [
    {
     "name": "stdout",
     "output_type": "stream",
     "text": [
      "r2 score for Linear Regression : 0.9333484370561373\n",
      "r2 score for Xgboost : 0.9728151598348467\n",
      "r2 score for Extra Trees Regressor : 0.9607535652531323\n",
      "r2 score for Random Forest Regressor: 0.9623607646738312\n",
      "mean absolute error for Linear Regression : 5.585887646965317\n",
      "mean absolute error for Xgboost : 3.928476915233949\n",
      "mean absolute error for Extra Trees Regressor : 4.4771724981635925\n",
      "mean absolute error for Random Forest Regressor: 4.3770392272527125\n"
     ]
    }
   ],
   "source": [
    "print(f'r2 score for Linear Regression : {r2_lr}')\n",
    "print(f'r2 score for Xgboost : {r2_xg}')\n",
    "print(f'r2 score for Extra Trees Regressor : {r2_etr}')\n",
    "print(f'r2 score for Random Forest Regressor: {r2_rfr}')\n",
    "print(f'mean absolute error for Linear Regression : {mae_lr}')\n",
    "print(f'mean absolute error for Xgboost : {mae_xg}')\n",
    "print(f'mean absolute error for Extra Trees Regressor : {mae_etr}')\n",
    "print(f'mean absolute error for Random Forest Regressor: {mae_rfr}')\n"
   ]
  },
  {
   "cell_type": "code",
   "execution_count": null,
   "id": "3faeef13",
   "metadata": {},
   "outputs": [],
   "source": []
  }
 ],
 "metadata": {
  "kernelspec": {
   "display_name": "Python 3 (ipykernel)",
   "language": "python",
   "name": "python3"
  },
  "language_info": {
   "codemirror_mode": {
    "name": "ipython",
    "version": 3
   },
   "file_extension": ".py",
   "mimetype": "text/x-python",
   "name": "python",
   "nbconvert_exporter": "python",
   "pygments_lexer": "ipython3",
   "version": "3.9.13"
  }
 },
 "nbformat": 4,
 "nbformat_minor": 5
}
