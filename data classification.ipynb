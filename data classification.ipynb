{
 "cells": [
  {
   "cell_type": "code",
   "execution_count": 1,
   "id": "eb77fcf2",
   "metadata": {},
   "outputs": [],
   "source": [
    "import pandas as pd\n",
    "import numpy as np\n",
    "import seaborn as sns\n",
    "import matplotlib.pyplot as plt"
   ]
  },
  {
   "cell_type": "code",
   "execution_count": 2,
   "id": "13378f32",
   "metadata": {},
   "outputs": [],
   "source": [
    "a=pd.read_csv('C:\\\\Users\\\\varun\\\\Downloads\\\\final_data1.csv')"
   ]
  },
  {
   "cell_type": "code",
   "execution_count": 3,
   "id": "4f773679",
   "metadata": {},
   "outputs": [
    {
     "data": {
      "text/plain": [
       "Unnamed: 0_x       0\n",
       "FlightDate         0\n",
       "Quarter            0\n",
       "Year               0\n",
       "Month              0\n",
       "DayofMonth         0\n",
       "DepTime            0\n",
       "DepDel15           0\n",
       "CRSDepTime         0\n",
       "DepDelayMinutes    0\n",
       "OriginAirportID    0\n",
       "DestAirportID      0\n",
       "ArrTime            0\n",
       "CRSArrTime         0\n",
       "ArrDel15           0\n",
       "Dest               0\n",
       "ArrDelayMinutes    0\n",
       "Origin             0\n",
       "time               0\n",
       "Unnamed: 0_y       0\n",
       "windspeedKmph      0\n",
       "winddirDegree      0\n",
       "weatherCode        0\n",
       "precipMM           0\n",
       "visibility         0\n",
       "pressure           0\n",
       "cloudcover         0\n",
       "DewPointF          0\n",
       "WindGustKmph       0\n",
       "tempF              0\n",
       "WindChillF         0\n",
       "humidity           0\n",
       "date               0\n",
       "airport            0\n",
       "dtype: int64"
      ]
     },
     "execution_count": 3,
     "metadata": {},
     "output_type": "execute_result"
    }
   ],
   "source": [
    "a.isnull().sum()"
   ]
  },
  {
   "cell_type": "code",
   "execution_count": 4,
   "id": "143bac35",
   "metadata": {},
   "outputs": [],
   "source": [
    "a.drop(['Unnamed: 0_x','Unnamed: 0_y'],axis=1,inplace=True)"
   ]
  },
  {
   "cell_type": "code",
   "execution_count": 5,
   "id": "c59dae39",
   "metadata": {},
   "outputs": [],
   "source": [
    "b=a['DepDel15'].value_counts()"
   ]
  },
  {
   "cell_type": "code",
   "execution_count": 6,
   "id": "9851e1fc",
   "metadata": {},
   "outputs": [
    {
     "data": {
      "text/plain": [
       "([<matplotlib.patches.Wedge at 0x1b9b9ebe940>,\n",
       "  <matplotlib.patches.Wedge at 0x1b9b9ebee20>],\n",
       " [Text(-0.8879487725070035, 0.6492664918223534, ''),\n",
       "  Text(0.8879487725070033, -0.6492664918223535, '')])"
      ]
     },
     "execution_count": 6,
     "metadata": {},
     "output_type": "execute_result"
    },
    {
     "data": {
      "image/png": "[encoded data removed]",
      "text/plain": [
       "<Figure size 640x480 with 1 Axes>"
      ]
     },
     "metadata": {},
     "output_type": "display_data"
    }
   ],
   "source": [
    "plt.pie(b)"
   ]
  },
  {
   "cell_type": "code",
   "execution_count": 7,
   "id": "06504dc2",
   "metadata": {},
   "outputs": [
    {
     "data": {
      "text/plain": [
       "0    0.0\n",
       "1    0.0\n",
       "2    0.0\n",
       "3    0.0\n",
       "4    0.0\n",
       "Name: DepDel15, dtype: float64"
      ]
     },
     "execution_count": 7,
     "metadata": {},
     "output_type": "execute_result"
    }
   ],
   "source": [
    "y=a['DepDel15']\n",
    "y.head()"
   ]
  },
  {
   "cell_type": "code",
   "execution_count": 8,
   "id": "77ba4506",
   "metadata": {},
   "outputs": [],
   "source": [
    "X=a.drop(['DepDel15'],axis=1)"
   ]
  },
  {
   "cell_type": "code",
   "execution_count": 9,
   "id": "bdcfd3cc",
   "metadata": {},
   "outputs": [],
   "source": [
    "X=X.drop(['FlightDate','Quarter','WindGustKmph','WindChillF','DepTime','DepTime','DepDelayMinutes','ArrTime','ArrDel15','Dest','ArrDelayMinutes','Origin','time','date','airport'],axis=1)\n",
    "# FlightDate         0\n",
    "# Quarter            0\n",
    "# Year               0\n",
    "# Month              0\n",
    "# DayofMonth         0\n",
    "# DepTime            0\n",
    "# DepDel15           0\n",
    "# CRSDepTime         0\n",
    "# DepDelayMinutes    0\n",
    "# OriginAirportID    0\n",
    "# DestAirportID      0\n",
    "# ArrTime            0\n",
    "# CRSArrTime         0\n",
    "# ArrDel15           0\n",
    "# Dest               0\n",
    "# ArrDelayMinutes    0\n",
    "# Origin             0\n",
    "# time               0\n",
    "# Unnamed: 0_y       0\n",
    "# windspeedKmph      0\n",
    "# winddirDegree      0\n",
    "# weatherCode        0\n",
    "# precipMM           0\n",
    "# visibility         0\n",
    "# pressure           0\n",
    "# cloudcover         0\n",
    "# DewPointF          0\n",
    "# WindGustKmph       0\n",
    "# tempF              0\n",
    "# WindChillF         0\n",
    "# humidity           0\n",
    "# date               0\n",
    "# airport    "
   ]
  },
  {
   "cell_type": "code",
   "execution_count": 10,
   "id": "70c72daa",
   "metadata": {},
   "outputs": [
    {
     "data": {
      "text/html": [
       "<div>\n",
       "<style scoped>\n",
       "    .dataframe tbody tr th:only-of-type {\n",
       "        vertical-align: middle;\n",
       "    }\n",
       "\n",
       "    .dataframe tbody tr th {\n",
       "        vertical-align: top;\n",
       "    }\n",
       "\n",
       "    .dataframe thead th {\n",
       "        text-align: right;\n",
       "    }\n",
       "</style>\n",
       "<table border=\"1\" class=\"dataframe\">\n",
       "  <thead>\n",
       "    <tr style=\"text-align: right;\">\n",
       "      <th></th>\n",
       "      <th>Year</th>\n",
       "      <th>Month</th>\n",
       "      <th>DayofMonth</th>\n",
       "      <th>CRSDepTime</th>\n",
       "      <th>OriginAirportID</th>\n",
       "      <th>DestAirportID</th>\n",
       "      <th>CRSArrTime</th>\n",
       "      <th>windspeedKmph</th>\n",
       "      <th>winddirDegree</th>\n",
       "      <th>weatherCode</th>\n",
       "      <th>precipMM</th>\n",
       "      <th>visibility</th>\n",
       "      <th>pressure</th>\n",
       "      <th>cloudcover</th>\n",
       "      <th>DewPointF</th>\n",
       "      <th>tempF</th>\n",
       "      <th>humidity</th>\n",
       "    </tr>\n",
       "  </thead>\n",
       "  <tbody>\n",
       "    <tr>\n",
       "      <th>0</th>\n",
       "      <td>2016</td>\n",
       "      <td>1</td>\n",
       "      <td>1</td>\n",
       "      <td>745</td>\n",
       "      <td>14747</td>\n",
       "      <td>12478</td>\n",
       "      <td>1602</td>\n",
       "      <td>7</td>\n",
       "      <td>108</td>\n",
       "      <td>113</td>\n",
       "      <td>0.0</td>\n",
       "      <td>10</td>\n",
       "      <td>1030</td>\n",
       "      <td>0</td>\n",
       "      <td>23</td>\n",
       "      <td>34</td>\n",
       "      <td>65</td>\n",
       "    </tr>\n",
       "    <tr>\n",
       "      <th>1</th>\n",
       "      <td>2016</td>\n",
       "      <td>1</td>\n",
       "      <td>2</td>\n",
       "      <td>745</td>\n",
       "      <td>14747</td>\n",
       "      <td>12478</td>\n",
       "      <td>1602</td>\n",
       "      <td>7</td>\n",
       "      <td>118</td>\n",
       "      <td>113</td>\n",
       "      <td>0.0</td>\n",
       "      <td>10</td>\n",
       "      <td>1024</td>\n",
       "      <td>0</td>\n",
       "      <td>25</td>\n",
       "      <td>37</td>\n",
       "      <td>63</td>\n",
       "    </tr>\n",
       "    <tr>\n",
       "      <th>2</th>\n",
       "      <td>2016</td>\n",
       "      <td>1</td>\n",
       "      <td>3</td>\n",
       "      <td>745</td>\n",
       "      <td>14747</td>\n",
       "      <td>12478</td>\n",
       "      <td>1602</td>\n",
       "      <td>6</td>\n",
       "      <td>83</td>\n",
       "      <td>113</td>\n",
       "      <td>0.0</td>\n",
       "      <td>10</td>\n",
       "      <td>1018</td>\n",
       "      <td>0</td>\n",
       "      <td>20</td>\n",
       "      <td>32</td>\n",
       "      <td>64</td>\n",
       "    </tr>\n",
       "    <tr>\n",
       "      <th>3</th>\n",
       "      <td>2016</td>\n",
       "      <td>1</td>\n",
       "      <td>4</td>\n",
       "      <td>745</td>\n",
       "      <td>14747</td>\n",
       "      <td>12478</td>\n",
       "      <td>1602</td>\n",
       "      <td>5</td>\n",
       "      <td>9</td>\n",
       "      <td>266</td>\n",
       "      <td>0.2</td>\n",
       "      <td>4</td>\n",
       "      <td>1010</td>\n",
       "      <td>93</td>\n",
       "      <td>33</td>\n",
       "      <td>35</td>\n",
       "      <td>94</td>\n",
       "    </tr>\n",
       "    <tr>\n",
       "      <th>4</th>\n",
       "      <td>2016</td>\n",
       "      <td>1</td>\n",
       "      <td>5</td>\n",
       "      <td>710</td>\n",
       "      <td>14747</td>\n",
       "      <td>12478</td>\n",
       "      <td>1527</td>\n",
       "      <td>5</td>\n",
       "      <td>62</td>\n",
       "      <td>266</td>\n",
       "      <td>0.1</td>\n",
       "      <td>6</td>\n",
       "      <td>1001</td>\n",
       "      <td>100</td>\n",
       "      <td>35</td>\n",
       "      <td>38</td>\n",
       "      <td>91</td>\n",
       "    </tr>\n",
       "    <tr>\n",
       "      <th>...</th>\n",
       "      <td>...</td>\n",
       "      <td>...</td>\n",
       "      <td>...</td>\n",
       "      <td>...</td>\n",
       "      <td>...</td>\n",
       "      <td>...</td>\n",
       "      <td>...</td>\n",
       "      <td>...</td>\n",
       "      <td>...</td>\n",
       "      <td>...</td>\n",
       "      <td>...</td>\n",
       "      <td>...</td>\n",
       "      <td>...</td>\n",
       "      <td>...</td>\n",
       "      <td>...</td>\n",
       "      <td>...</td>\n",
       "      <td>...</td>\n",
       "    </tr>\n",
       "    <tr>\n",
       "      <th>1851431</th>\n",
       "      <td>2017</td>\n",
       "      <td>12</td>\n",
       "      <td>17</td>\n",
       "      <td>1030</td>\n",
       "      <td>13930</td>\n",
       "      <td>12266</td>\n",
       "      <td>1326</td>\n",
       "      <td>14</td>\n",
       "      <td>105</td>\n",
       "      <td>122</td>\n",
       "      <td>0.0</td>\n",
       "      <td>8</td>\n",
       "      <td>1020</td>\n",
       "      <td>100</td>\n",
       "      <td>31</td>\n",
       "      <td>32</td>\n",
       "      <td>98</td>\n",
       "    </tr>\n",
       "    <tr>\n",
       "      <th>1851432</th>\n",
       "      <td>2017</td>\n",
       "      <td>12</td>\n",
       "      <td>17</td>\n",
       "      <td>1156</td>\n",
       "      <td>12892</td>\n",
       "      <td>11618</td>\n",
       "      <td>2017</td>\n",
       "      <td>17</td>\n",
       "      <td>31</td>\n",
       "      <td>113</td>\n",
       "      <td>0.0</td>\n",
       "      <td>10</td>\n",
       "      <td>1014</td>\n",
       "      <td>0</td>\n",
       "      <td>25</td>\n",
       "      <td>58</td>\n",
       "      <td>27</td>\n",
       "    </tr>\n",
       "    <tr>\n",
       "      <th>1851433</th>\n",
       "      <td>2017</td>\n",
       "      <td>12</td>\n",
       "      <td>17</td>\n",
       "      <td>737</td>\n",
       "      <td>12266</td>\n",
       "      <td>11292</td>\n",
       "      <td>909</td>\n",
       "      <td>7</td>\n",
       "      <td>24</td>\n",
       "      <td>122</td>\n",
       "      <td>0.0</td>\n",
       "      <td>10</td>\n",
       "      <td>1020</td>\n",
       "      <td>100</td>\n",
       "      <td>47</td>\n",
       "      <td>49</td>\n",
       "      <td>91</td>\n",
       "    </tr>\n",
       "    <tr>\n",
       "      <th>1851434</th>\n",
       "      <td>2017</td>\n",
       "      <td>12</td>\n",
       "      <td>17</td>\n",
       "      <td>1638</td>\n",
       "      <td>11298</td>\n",
       "      <td>11292</td>\n",
       "      <td>1747</td>\n",
       "      <td>8</td>\n",
       "      <td>171</td>\n",
       "      <td>122</td>\n",
       "      <td>0.0</td>\n",
       "      <td>10</td>\n",
       "      <td>1019</td>\n",
       "      <td>95</td>\n",
       "      <td>44</td>\n",
       "      <td>50</td>\n",
       "      <td>78</td>\n",
       "    </tr>\n",
       "    <tr>\n",
       "      <th>1851435</th>\n",
       "      <td>2017</td>\n",
       "      <td>12</td>\n",
       "      <td>17</td>\n",
       "      <td>1008</td>\n",
       "      <td>13204</td>\n",
       "      <td>11618</td>\n",
       "      <td>1245</td>\n",
       "      <td>9</td>\n",
       "      <td>80</td>\n",
       "      <td>116</td>\n",
       "      <td>0.0</td>\n",
       "      <td>10</td>\n",
       "      <td>1025</td>\n",
       "      <td>36</td>\n",
       "      <td>58</td>\n",
       "      <td>63</td>\n",
       "      <td>84</td>\n",
       "    </tr>\n",
       "  </tbody>\n",
       "</table>\n",
       "<p>1851436 rows × 17 columns</p>\n",
       "</div>"
      ],
      "text/plain": [
       "         Year  Month  DayofMonth  CRSDepTime  OriginAirportID  DestAirportID  \\\n",
       "0        2016      1           1         745            14747          12478   \n",
       "1        2016      1           2         745            14747          12478   \n",
       "2        2016      1           3         745            14747          12478   \n",
       "3        2016      1           4         745            14747          12478   \n",
       "4        2016      1           5         710            14747          12478   \n",
       "...       ...    ...         ...         ...              ...            ...   \n",
       "1851431  2017     12          17        1030            13930          12266   \n",
       "1851432  2017     12          17        1156            12892          11618   \n",
       "1851433  2017     12          17         737            12266          11292   \n",
       "1851434  2017     12          17        1638            11298          11292   \n",
       "1851435  2017     12          17        1008            13204          11618   \n",
       "\n",
       "         CRSArrTime  windspeedKmph  winddirDegree  weatherCode  precipMM  \\\n",
       "0              1602              7            108          113       0.0   \n",
       "1              1602              7            118          113       0.0   \n",
       "2              1602              6             83          113       0.0   \n",
       "3              1602              5              9          266       0.2   \n",
       "4              1527              5             62          266       0.1   \n",
       "...             ...            ...            ...          ...       ...   \n",
       "1851431        1326             14            105          122       0.0   \n",
       "1851432        2017             17             31          113       0.0   \n",
       "1851433         909              7             24          122       0.0   \n",
       "1851434        1747              8            171          122       0.0   \n",
       "1851435        1245              9             80          116       0.0   \n",
       "\n",
       "         visibility  pressure  cloudcover  DewPointF  tempF  humidity  \n",
       "0                10      1030           0         23     34        65  \n",
       "1                10      1024           0         25     37        63  \n",
       "2                10      1018           0         20     32        64  \n",
       "3                 4      1010          93         33     35        94  \n",
       "4                 6      1001         100         35     38        91  \n",
       "...             ...       ...         ...        ...    ...       ...  \n",
       "1851431           8      1020         100         31     32        98  \n",
       "1851432          10      1014           0         25     58        27  \n",
       "1851433          10      1020         100         47     49        91  \n",
       "1851434          10      1019          95         44     50        78  \n",
       "1851435          10      1025          36         58     63        84  \n",
       "\n",
       "[1851436 rows x 17 columns]"
      ]
     },
     "execution_count": 10,
     "metadata": {},
     "output_type": "execute_result"
    }
   ],
   "source": [
    "X"
   ]
  },
  {
   "cell_type": "code",
   "execution_count": 11,
   "id": "2a9a53a1",
   "metadata": {},
   "outputs": [
    {
     "data": {
      "text/plain": [
       "0.0    1479357\n",
       "1.0     372079\n",
       "Name: DepDel15, dtype: int64"
      ]
     },
     "execution_count": 11,
     "metadata": {},
     "output_type": "execute_result"
    }
   ],
   "source": [
    "y.value_counts()"
   ]
  },
  {
   "cell_type": "markdown",
   "id": "ead6bf90",
   "metadata": {},
   "source": [
    "#without smote"
   ]
  },
  {
   "cell_type": "code",
   "execution_count": 17,
   "id": "df4337a7",
   "metadata": {},
   "outputs": [],
   "source": [
    "from sklearn.model_selection import train_test_split\n",
    "from sklearn import linear_model"
   ]
  },
  {
   "cell_type": "code",
   "execution_count": 38,
   "id": "dcbab759",
   "metadata": {},
   "outputs": [],
   "source": [
    "X_train, X_test, y_train, y_test = train_test_split(X,y,test_size=0.3,random_state=0)"
   ]
  },
  {
   "cell_type": "code",
   "execution_count": 39,
   "id": "00c2cb17",
   "metadata": {
    "scrolled": true
   },
   "outputs": [
    {
     "data": {
      "text/plain": [
       "LogisticRegression(max_iter=3000)"
      ]
     },
     "execution_count": 39,
     "metadata": {},
     "output_type": "execute_result"
    }
   ],
   "source": [
    "lr=linear_model.LogisticRegression(max_iter=3000)\n",
    "lr.fit(X_train,y_train)"
   ]
  },
  {
   "cell_type": "code",
   "execution_count": 40,
   "id": "a7113f72",
   "metadata": {},
   "outputs": [],
   "source": [
    "y_predict=lr.predict(X_test)\n"
   ]
  },
  {
   "cell_type": "code",
   "execution_count": 41,
   "id": "82b49d9c",
   "metadata": {},
   "outputs": [
    {
     "data": {
      "text/plain": [
       "0.7991181622919858"
      ]
     },
     "execution_count": 41,
     "metadata": {},
     "output_type": "execute_result"
    }
   ],
   "source": [
    "from sklearn.metrics import accuracy_score\n",
    "accuracy_score(y_predict,y_test)"
   ]
  },
  {
   "cell_type": "code",
   "execution_count": 42,
   "id": "8837e127",
   "metadata": {},
   "outputs": [
    {
     "data": {
      "text/plain": [
       "0.7991181622919858"
      ]
     },
     "execution_count": 42,
     "metadata": {},
     "output_type": "execute_result"
    }
   ],
   "source": [
    "lr.score(X_test,y_test)"
   ]
  },
  {
   "cell_type": "code",
   "execution_count": 43,
   "id": "855b70ba",
   "metadata": {},
   "outputs": [
    {
     "data": {
      "text/plain": [
       "DecisionTreeClassifier()"
      ]
     },
     "execution_count": 43,
     "metadata": {},
     "output_type": "execute_result"
    }
   ],
   "source": [
    "from sklearn.tree import DecisionTreeClassifier\n",
    "dtc=DecisionTreeClassifier()\n",
    "dtc.fit(X_train,y_train)"
   ]
  },
  {
   "cell_type": "code",
   "execution_count": 44,
   "id": "bce68d63",
   "metadata": {},
   "outputs": [
    {
     "data": {
      "text/plain": [
       "0.7218520392271948"
      ]
     },
     "execution_count": 44,
     "metadata": {},
     "output_type": "execute_result"
    }
   ],
   "source": [
    "dtc_predict=dtc.predict(X_test)\n",
    "accuracy_score(dtc_predict,y_test)"
   ]
  },
  {
   "cell_type": "code",
   "execution_count": 45,
   "id": "7966a727",
   "metadata": {},
   "outputs": [
    {
     "data": {
      "text/plain": [
       "RandomForestClassifier()"
      ]
     },
     "execution_count": 45,
     "metadata": {},
     "output_type": "execute_result"
    }
   ],
   "source": [
    "from sklearn.ensemble import RandomForestClassifier\n",
    "rfc=RandomForestClassifier()\n",
    "rfc.fit(X_train,y_train)"
   ]
  },
  {
   "cell_type": "code",
   "execution_count": 46,
   "id": "02044641",
   "metadata": {},
   "outputs": [
    {
     "data": {
      "text/plain": [
       "0.7964103552016362"
      ]
     },
     "execution_count": 46,
     "metadata": {},
     "output_type": "execute_result"
    }
   ],
   "source": [
    "rfc_predict=rfc.predict(X_test)\n",
    "accuracy_score(rfc_predict,y_test)"
   ]
  },
  {
   "cell_type": "code",
   "execution_count": 47,
   "id": "cec93926",
   "metadata": {},
   "outputs": [
    {
     "data": {
      "text/plain": [
       "XGBClassifier(base_score=None, booster=None, callbacks=None,\n",
       "              colsample_bylevel=None, colsample_bynode=None,\n",
       "              colsample_bytree=None, early_stopping_rounds=None,\n",
       "              enable_categorical=False, eval_metric=None, feature_types=None,\n",
       "              gamma=None, gpu_id=None, grow_policy=None, importance_type=None,\n",
       "              interaction_constraints=None, learning_rate=None, max_bin=None,\n",
       "              max_cat_threshold=None, max_cat_to_onehot=None,\n",
       "              max_delta_step=None, max_depth=None, max_leaves=None,\n",
       "              min_child_weight=None, missing=nan, monotone_constraints=None,\n",
       "              n_estimators=100, n_jobs=None, num_parallel_tree=None,\n",
       "              predictor=None, random_state=None, ...)"
      ]
     },
     "execution_count": 47,
     "metadata": {},
     "output_type": "execute_result"
    }
   ],
   "source": [
    "from xgboost import XGBClassifier\n",
    "xg=XGBClassifier()\n",
    "xg.fit(X_train,y_train)"
   ]
  },
  {
   "cell_type": "code",
   "execution_count": 48,
   "id": "ac6f497b",
   "metadata": {},
   "outputs": [
    {
     "data": {
      "text/plain": [
       "0.8073280029382588"
      ]
     },
     "execution_count": 48,
     "metadata": {},
     "output_type": "execute_result"
    }
   ],
   "source": [
    "xg_predict=xg.predict(X_test)\n",
    "accuracy_score(xg_predict,y_test)"
   ]
  },
  {
   "cell_type": "code",
   "execution_count": 49,
   "id": "2462a3ee",
   "metadata": {},
   "outputs": [
    {
     "data": {
      "text/plain": [
       "ExtraTreesClassifier()"
      ]
     },
     "execution_count": 49,
     "metadata": {},
     "output_type": "execute_result"
    }
   ],
   "source": [
    "from sklearn.ensemble import ExtraTreesClassifier\n",
    "etr=ExtraTreesClassifier()\n",
    "etr.fit(X_train,y_train)"
   ]
  },
  {
   "cell_type": "code",
   "execution_count": 50,
   "id": "ccfb2c80",
   "metadata": {},
   "outputs": [
    {
     "data": {
      "text/plain": [
       "0.7788438167837229"
      ]
     },
     "execution_count": 50,
     "metadata": {},
     "output_type": "execute_result"
    }
   ],
   "source": [
    "etr_predict=etr.predict(X_test)\n",
    "accuracy_score(etr_predict,y_test)"
   ]
  },
  {
   "cell_type": "markdown",
   "id": "b2965204",
   "metadata": {},
   "source": [
    "# with smote"
   ]
  },
  {
   "cell_type": "code",
   "execution_count": 12,
   "id": "e1b90a89",
   "metadata": {},
   "outputs": [],
   "source": [
    "from imblearn.over_sampling import SMOTE"
   ]
  },
  {
   "cell_type": "code",
   "execution_count": 13,
   "id": "153b5319",
   "metadata": {},
   "outputs": [],
   "source": [
    "smote=SMOTE()"
   ]
  },
  {
   "cell_type": "code",
   "execution_count": 14,
   "id": "77cbe407",
   "metadata": {},
   "outputs": [],
   "source": [
    "X,y=smote.fit_resample(X,y)"
   ]
  },
  {
   "cell_type": "code",
   "execution_count": 15,
   "id": "4876d6c9",
   "metadata": {},
   "outputs": [
    {
     "data": {
      "text/plain": [
       "0.0    1479357\n",
       "1.0    1479357\n",
       "Name: DepDel15, dtype: int64"
      ]
     },
     "execution_count": 15,
     "metadata": {},
     "output_type": "execute_result"
    }
   ],
   "source": [
    "y.value_counts()"
   ]
  },
  {
   "cell_type": "code",
   "execution_count": 18,
   "id": "1b9f7bfd",
   "metadata": {},
   "outputs": [],
   "source": [
    "X_train, X_test, y_train, y_test = train_test_split(X,y,test_size=0.3,random_state=0)"
   ]
  },
  {
   "cell_type": "markdown",
   "id": "b18dbe5d",
   "metadata": {},
   "source": [
    "#logistic regression"
   ]
  },
  {
   "cell_type": "code",
   "execution_count": 56,
   "id": "43bd2bf0",
   "metadata": {},
   "outputs": [
    {
     "data": {
      "text/plain": [
       "LogisticRegression(max_iter=3000)"
      ]
     },
     "execution_count": 56,
     "metadata": {},
     "output_type": "execute_result"
    }
   ],
   "source": [
    "lr=linear_model.LogisticRegression(max_iter=3000)\n",
    "lr.fit(X_train,y_train)"
   ]
  },
  {
   "cell_type": "code",
   "execution_count": 57,
   "id": "cf39a141",
   "metadata": {},
   "outputs": [],
   "source": [
    "lr_predict=lr.predict(X_test)\n",
    "from sklearn.metrics import accuracy_score\n",
    "lr_accuracy=accuracy_score(lr_predict,y_test)"
   ]
  },
  {
   "cell_type": "markdown",
   "id": "684f505c",
   "metadata": {},
   "source": [
    "#decision tree classifier"
   ]
  },
  {
   "cell_type": "code",
   "execution_count": 58,
   "id": "e8ac6620",
   "metadata": {},
   "outputs": [
    {
     "data": {
      "text/plain": [
       "DecisionTreeClassifier()"
      ]
     },
     "execution_count": 58,
     "metadata": {},
     "output_type": "execute_result"
    }
   ],
   "source": [
    "from sklearn.tree import DecisionTreeClassifier\n",
    "dtc=DecisionTreeClassifier()\n",
    "dtc.fit(X_train,y_train)"
   ]
  },
  {
   "cell_type": "code",
   "execution_count": 59,
   "id": "af98bfd7",
   "metadata": {},
   "outputs": [],
   "source": [
    "dtc_predict=dtc.predict(X_test)\n",
    "dtc_accuracy=accuracy_score(dtc_predict,y_test)"
   ]
  },
  {
   "cell_type": "markdown",
   "id": "147e55bf",
   "metadata": {},
   "source": [
    "#Random forest classifier"
   ]
  },
  {
   "cell_type": "code",
   "execution_count": 19,
   "id": "38c877ad",
   "metadata": {},
   "outputs": [
    {
     "data": {
      "text/plain": [
       "RandomForestClassifier()"
      ]
     },
     "execution_count": 19,
     "metadata": {},
     "output_type": "execute_result"
    }
   ],
   "source": [
    "from sklearn.ensemble import RandomForestClassifier\n",
    "rfc=RandomForestClassifier()\n",
    "rfc.fit(X_train,y_train)"
   ]
  },
  {
   "cell_type": "code",
   "execution_count": 26,
   "id": "a440659b",
   "metadata": {},
   "outputs": [
    {
     "data": {
      "text/plain": [
       "['randomfc.joblib']"
      ]
     },
     "execution_count": 26,
     "metadata": {},
     "output_type": "execute_result"
    }
   ],
   "source": [
    "import joblib\n",
    "joblib.dump(rfc,'randomfc.joblib')"
   ]
  },
  {
   "cell_type": "code",
   "execution_count": 50,
   "id": "0abc3532",
   "metadata": {},
   "outputs": [],
   "source": [
    "rfc_predict=rfc.predict(X_test)\n",
    "rfc_accuracy=accuracy_score(rfc_predict,y_test)"
   ]
  },
  {
   "cell_type": "markdown",
   "id": "4ab13485",
   "metadata": {},
   "source": [
    "#xgboost"
   ]
  },
  {
   "cell_type": "code",
   "execution_count": 42,
   "id": "fa26bd93",
   "metadata": {},
   "outputs": [
    {
     "data": {
      "text/plain": [
       "XGBClassifier(base_score=None, booster=None, callbacks=None,\n",
       "              colsample_bylevel=None, colsample_bynode=None,\n",
       "              colsample_bytree=None, early_stopping_rounds=None,\n",
       "              enable_categorical=False, eval_metric=None, feature_types=None,\n",
       "              gamma=None, gpu_id=None, grow_policy=None, importance_type=None,\n",
       "              interaction_constraints=None, learning_rate=None, max_bin=None,\n",
       "              max_cat_threshold=None, max_cat_to_onehot=None,\n",
       "              max_delta_step=None, max_depth=None, max_leaves=None,\n",
       "              min_child_weight=None, missing=nan, monotone_constraints=None,\n",
       "              n_estimators=100, n_jobs=None, num_parallel_tree=None,\n",
       "              predictor=None, random_state=None, ...)"
      ]
     },
     "execution_count": 42,
     "metadata": {},
     "output_type": "execute_result"
    }
   ],
   "source": [
    "from xgboost import XGBClassifier\n",
    "xg=XGBClassifier()\n",
    "xg.fit(X_train,y_train)"
   ]
  },
  {
   "cell_type": "code",
   "execution_count": 51,
   "id": "d1a8c6fc",
   "metadata": {},
   "outputs": [],
   "source": [
    "xg_predict=xg.predict(X_test)\n",
    "xg_accuracy=accuracy_score(xg_predict,y_test)"
   ]
  },
  {
   "cell_type": "markdown",
   "id": "4c0939c5",
   "metadata": {},
   "source": [
    "#extrareesclassifier"
   ]
  },
  {
   "cell_type": "code",
   "execution_count": 45,
   "id": "5f3dd7c0",
   "metadata": {},
   "outputs": [
    {
     "name": "stderr",
     "output_type": "stream",
     "text": [
      "C:\\Users\\varun\\AppData\\Local\\Temp\\ipykernel_3992\\1921621032.py:3: DataConversionWarning: A column-vector y was passed when a 1d array was expected. Please change the shape of y to (n_samples,), for example using ravel().\n",
      "  etr.fit(X_train,y_train)\n"
     ]
    },
    {
     "data": {
      "text/plain": [
       "ExtraTreesClassifier()"
      ]
     },
     "execution_count": 45,
     "metadata": {},
     "output_type": "execute_result"
    }
   ],
   "source": [
    "from sklearn.ensemble import ExtraTreesClassifier\n",
    "etr=ExtraTreesClassifier()\n",
    "etr.fit(X_train,y_train)"
   ]
  },
  {
   "cell_type": "code",
   "execution_count": 52,
   "id": "574ded6f",
   "metadata": {},
   "outputs": [],
   "source": [
    "etr_predict=etr.predict(X_test)\n",
    "etc_accuracy=accuracy_score(etr_predict,y_test)"
   ]
  },
  {
   "cell_type": "code",
   "execution_count": 54,
   "id": "948ea993",
   "metadata": {},
   "outputs": [
    {
     "name": "stdout",
     "output_type": "stream",
     "text": [
      "acccuracy score on logistic regression: 0.6023580043149338\n",
      "acccuracy score on decision tree classifier: 0.7919999098708337\n",
      "acccuracy score on random frest classifier: 0.8543839389825544\n",
      "acccuracy score on xgboost: 0.7720103873864231\n",
      "acccuracy score on extra trees classifier: 0.851527971023473\n"
     ]
    }
   ],
   "source": [
    "print(f'acccuracy score on logistic regression: {lr_accuracy}')\n",
    "print(f'acccuracy score on decision tree classifier: {dtc_accuracy}')\n",
    "print(f'acccuracy score on random frest classifier: {rfc_accuracy}')\n",
    "print(f'acccuracy score on xgboost: {xg_accuracy}')\n",
    "print(f'acccuracy score on extra trees classifier: {etc_accuracy}')"
   ]
  },
  {
   "cell_type": "code",
   "execution_count": null,
   "id": "b37aa7a5",
   "metadata": {},
   "outputs": [],
   "source": []
  }
 ],
 "metadata": {
  "kernelspec": {
   "display_name": "Python 3 (ipykernel)",
   "language": "python",
   "name": "python3"
  },
  "language_info": {
   "codemirror_mode": {
    "name": "ipython",
    "version": 3
   },
   "file_extension": ".py",
   "mimetype": "text/x-python",
   "name": "python",
   "nbconvert_exporter": "python",
   "pygments_lexer": "ipython3",
   "version": "3.9.13"
  }
 },
 "nbformat": 4,
 "nbformat_minor": 5
}
